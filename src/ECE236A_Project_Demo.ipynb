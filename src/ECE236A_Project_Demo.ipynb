{
 "cells": [
  {
   "cell_type": "code",
   "execution_count": null,
   "id": "537eb435",
   "metadata": {},
   "outputs": [],
   "source": [
    "from utils import *\n",
    "from MySolution import MyClassifier, MyClustering, MyLabelSelection, MyFeatureSelection\n",
    "\n",
    "%load_ext autoreload\n",
    "%autoreload 2"
   ]
  },
  {
   "cell_type": "code",
   "execution_count": null,
   "id": "331eb0eb",
   "metadata": {},
   "outputs": [],
   "source": [
    "# Get datasets\n",
    "syn_data = prepare_synthetic_data()\n",
    "print(\"Synthetic data shape: \", syn_data['trainX'].shape, syn_data['trainY'].shape)\n",
    "\n",
    "plt.scatter(syn_data['trainX'][:, 0], syn_data['trainX'][:, 1], c=syn_data['trainY'])"
   ]
  },
  {
   "cell_type": "code",
   "execution_count": null,
   "id": "d3bc8b19",
   "metadata": {},
   "outputs": [],
   "source": [
    "mnist_data = prepare_mnist_data()\n",
    "print(\"MNIST data shape: \", mnist_data['trainX'].shape, mnist_data['trainY'].shape)\n",
    "\n",
    "for i in range(9):\t\n",
    "    plt.subplot(330 + 1 + i)\n",
    "    plt.imshow(mnist_data['trainX'][i].reshape(28,28), cmap='gray')\n",
    "plt.show()"
   ]
  },
  {
   "cell_type": "code",
   "execution_count": null,
   "id": "496230f7",
   "metadata": {},
   "outputs": [],
   "source": [
    "import numpy as np\n",
    "\n",
    "data = prepare_mnist_data()\n",
    "\n",
    "# randomly choose 30 features\n",
    "np.random.seed(0)\n",
    "selected_features = np.random.choice(data['trainX'].shape[1], 30, replace=False)\n",
    "data['trainX'] = data['trainX'][:, selected_features]\n",
    "data['testX'] = data['testX'][:, selected_features]\n",
    "\n",
    "visualize_features(selected_features)"
   ]
  },
  {
   "cell_type": "code",
   "execution_count": null,
   "id": "ab53e129",
   "metadata": {},
   "outputs": [],
   "source": [
    "## TODO: Implement your solution and store the results in the following dictionaries\n",
    "## Please note that the below values are given as an example to show the format, \n",
    "## you need to replace them with your values :)\n",
    "\n",
    "K_synthetic = [3, 5, 10]\n",
    "K_mnist = [3, 10, 32]\n",
    "\n",
    "result2 = {}\n",
    "# Synthetic data experiments\n",
    "for K in K_synthetic:\n",
    "    clustering_class = MyClustering(K)\n",
    "    clustering_class.fit(data['trainX'])\n",
    "    nmi = clustering_class.evaluate_clustering(data['trainY'])\n",
    "    print(f\"Clustering NMI for K={K}: {nmi}\")\n",
    "    accuracy = clustering_class.evaluate_classification(data['trainY'], data['testX'], data['testY'])\n",
    "\n",
    "    result2['synthetic'] = {'K': K_synthetic, 'clustering_nmi': [0.6, 0.6, 0.6], 'classification_accuracy': [0.8, 0.8, 0.8]}\n",
    "\n",
    "# MNIST data experiments\n",
    "for K in K_mnist:\n",
    "    clustering_class = MyClustering(K)\n",
    "    clustering_class.fit(data['trainX'])\n",
    "    nmi = clustering_class.evaluate_clustering(data['trainY'])\n",
    "    print(f\"Clustering NMI for K={K}: {nmi}\")\n",
    "    accuracy = clustering_class.evaluate_classification(data['trainY'], data['testX'], data['testY'])\n",
    "\n",
    "    result2['mnist'] = {'K': K_mnist, 'clustering_nmi': [0.5, 0.5, 0.5], 'classification_accuracy': [0.7, 0.7, 0.7]}\n",
    "\n",
    "# Task 1\n",
    "result1 = {'synthetic_test_accuracy':0.9, 'mnist_test_accuracy':0.85}\n",
    "\n",
    "\n",
    "# Task 2\n",
    "# result2 = {'synthetic':{'K':[3, 5, 10], 'clustering_nmi':[0.6,0.6,0.6], 'classification_accuracy':[0.8,0.8,0.8]},\n",
    "#             'mnist':{'K':[3, 10, 32], 'clustering_nmi':[0.5,0.5,0.5], 'classification_accuracy':[0.7,0.7,0.7]}}\n",
    "\n",
    "# Task 3\n",
    "# only include the plots for the option of task 3 you chosen in the report                    \n",
    "result3_1 = {'synthetic': {'label_percentage':[0.05,0.1,0.2,0.5,1], 'test_accuracy(our algo)':[0.5,0.6,0.7,0.8,0.9], 'test_accuracy(random)':[0.4,0.5,0.6,0.7,0.8]},\n",
    "            'mnist': {'label_percentage':[0.05,0.1,0.2,0.5,1], 'test_accuracy(our algo)':[0.5,0.5,0.7,0.7,0.7], 'test_accuracy(random)':[0.4,0.4,0.6,0.6,0.6]}}\n",
    "\n",
    "result3_2 = {'feature_number':[5, 20, 80, 320, 784], 'classifier_accuracy(our algo)':[0.5,0.5,0.7,0.7,0.7], 'classifier_accuracy(random)':[0.4,0.4,0.6,0.6,0.6], \n",
    "                                                'clustering_accuracy(our algo)':[0.35,0.35,0.45,0.55,0.6], 'clustering_accuracy(random)':[0.3,0.3,0.4,0.5,0.6], \n",
    "                                                'nmi(our algo)':[0.35,0.4,0.45,0.5,0.5], 'nmi(random)':[0.3,0.35,0.4,0.5,0.5]}\n",
    "\n",
    "\n",
    "plot_result(result1 = result1, result2 = result2, result3_1 = result3_1)\n",
    "\n",
    "# Alternatively\n",
    "# plot_result(result1 = result1, result2 = result2, result3_2 = result3_2)"
   ]
  },
  {
   "cell_type": "code",
   "execution_count": null,
   "id": "93da7981",
   "metadata": {},
   "outputs": [],
   "source": []
  }
 ],
 "metadata": {
  "kernelspec": {
   "display_name": "ece236",
   "language": "python",
   "name": "python3"
  },
  "language_info": {
   "codemirror_mode": {
    "name": "ipython",
    "version": 3
   },
   "file_extension": ".py",
   "mimetype": "text/x-python",
   "name": "python",
   "nbconvert_exporter": "python",
   "pygments_lexer": "ipython3",
   "version": "3.11.10"
  }
 },
 "nbformat": 4,
 "nbformat_minor": 5
}
